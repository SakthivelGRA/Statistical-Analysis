{
 "cells": [
  {
   "cell_type": "markdown",
   "id": "8a4eb8f7",
   "metadata": {},
   "source": [
    "# Importing Necessary libraries"
   ]
  },
  {
   "cell_type": "code",
   "execution_count": 34,
   "id": "340a06aa",
   "metadata": {},
   "outputs": [],
   "source": [
    "import pandas as pd  # For data manipulation and analysis\n",
    "import numpy as np   # For numerical operations\n",
    "\n",
    "# For data visualization\n",
    "import matplotlib.pyplot as plt\n",
    "import seaborn as sns\n",
    "\n",
    "# For statistical analysis\n",
    "from scipy import stats"
   ]
  },
  {
   "cell_type": "code",
   "execution_count": 2,
   "id": "8adc4662",
   "metadata": {},
   "outputs": [],
   "source": [
    "df1= pd.read_excel(\"godigt_cc_data.xlsx\")"
   ]
  },
  {
   "cell_type": "code",
   "execution_count": 3,
   "id": "b7be2d20",
   "metadata": {},
   "outputs": [
    {
     "data": {
      "text/html": [
       "<div>\n",
       "<style scoped>\n",
       "    .dataframe tbody tr th:only-of-type {\n",
       "        vertical-align: middle;\n",
       "    }\n",
       "\n",
       "    .dataframe tbody tr th {\n",
       "        vertical-align: top;\n",
       "    }\n",
       "\n",
       "    .dataframe thead th {\n",
       "        text-align: right;\n",
       "    }\n",
       "</style>\n",
       "<table border=\"1\" class=\"dataframe\">\n",
       "  <thead>\n",
       "    <tr style=\"text-align: right;\">\n",
       "      <th></th>\n",
       "      <th>userid</th>\n",
       "      <th>card_no</th>\n",
       "      <th>card_bin_no</th>\n",
       "      <th>Issuer</th>\n",
       "      <th>card_type</th>\n",
       "      <th>card_source_date</th>\n",
       "      <th>high_networth</th>\n",
       "      <th>active_30</th>\n",
       "      <th>active_60</th>\n",
       "      <th>active_90</th>\n",
       "      <th>...</th>\n",
       "      <th>bank_vintage</th>\n",
       "      <th>T+1_month_activity</th>\n",
       "      <th>T+2_month_activity</th>\n",
       "      <th>T+3_month_activity</th>\n",
       "      <th>T+6_month_activity</th>\n",
       "      <th>T+12_month_activity</th>\n",
       "      <th>Transactor_revolver</th>\n",
       "      <th>avg_spends_l3m</th>\n",
       "      <th>Occupation_at_source</th>\n",
       "      <th>cc_limit</th>\n",
       "    </tr>\n",
       "  </thead>\n",
       "  <tbody>\n",
       "    <tr>\n",
       "      <th>0</th>\n",
       "      <td>1</td>\n",
       "      <td>4384 39XX XXXX XXXX</td>\n",
       "      <td>438439</td>\n",
       "      <td>Visa</td>\n",
       "      <td>edge</td>\n",
       "      <td>2019-09-29</td>\n",
       "      <td>B</td>\n",
       "      <td>0</td>\n",
       "      <td>1</td>\n",
       "      <td>1</td>\n",
       "      <td>...</td>\n",
       "      <td>27</td>\n",
       "      <td>0</td>\n",
       "      <td>0</td>\n",
       "      <td>0</td>\n",
       "      <td>0</td>\n",
       "      <td>0</td>\n",
       "      <td>T</td>\n",
       "      <td>27729</td>\n",
       "      <td>Self Employed</td>\n",
       "      <td>290000</td>\n",
       "    </tr>\n",
       "    <tr>\n",
       "      <th>1</th>\n",
       "      <td>2</td>\n",
       "      <td>4377 48XX XXXX XXXX</td>\n",
       "      <td>437748</td>\n",
       "      <td>Visa</td>\n",
       "      <td>prosperity</td>\n",
       "      <td>2002-10-30</td>\n",
       "      <td>A</td>\n",
       "      <td>1</td>\n",
       "      <td>1</td>\n",
       "      <td>1</td>\n",
       "      <td>...</td>\n",
       "      <td>52</td>\n",
       "      <td>0</td>\n",
       "      <td>0</td>\n",
       "      <td>0</td>\n",
       "      <td>0</td>\n",
       "      <td>0</td>\n",
       "      <td>R</td>\n",
       "      <td>280854</td>\n",
       "      <td>0</td>\n",
       "      <td>950000</td>\n",
       "    </tr>\n",
       "    <tr>\n",
       "      <th>2</th>\n",
       "      <td>3</td>\n",
       "      <td>4377 48XX XXXX XXXX</td>\n",
       "      <td>437748</td>\n",
       "      <td>Visa</td>\n",
       "      <td>rewards</td>\n",
       "      <td>2013-10-05</td>\n",
       "      <td>C</td>\n",
       "      <td>0</td>\n",
       "      <td>0</td>\n",
       "      <td>0</td>\n",
       "      <td>...</td>\n",
       "      <td>23</td>\n",
       "      <td>1</td>\n",
       "      <td>0</td>\n",
       "      <td>0</td>\n",
       "      <td>0</td>\n",
       "      <td>0</td>\n",
       "      <td>R</td>\n",
       "      <td>70587</td>\n",
       "      <td>Student</td>\n",
       "      <td>210000</td>\n",
       "    </tr>\n",
       "    <tr>\n",
       "      <th>3</th>\n",
       "      <td>4</td>\n",
       "      <td>4258 06XX XXXX XXXX</td>\n",
       "      <td>425806</td>\n",
       "      <td>Visa</td>\n",
       "      <td>indianoil</td>\n",
       "      <td>1999-06-01</td>\n",
       "      <td>E</td>\n",
       "      <td>0</td>\n",
       "      <td>1</td>\n",
       "      <td>1</td>\n",
       "      <td>...</td>\n",
       "      <td>49</td>\n",
       "      <td>0</td>\n",
       "      <td>0</td>\n",
       "      <td>1</td>\n",
       "      <td>0</td>\n",
       "      <td>0</td>\n",
       "      <td>T</td>\n",
       "      <td>9156</td>\n",
       "      <td>Self Employed</td>\n",
       "      <td>80000</td>\n",
       "    </tr>\n",
       "    <tr>\n",
       "      <th>4</th>\n",
       "      <td>5</td>\n",
       "      <td>4377 48XX XXXX XXXX</td>\n",
       "      <td>437748</td>\n",
       "      <td>Visa</td>\n",
       "      <td>edge</td>\n",
       "      <td>2006-06-13</td>\n",
       "      <td>B</td>\n",
       "      <td>1</td>\n",
       "      <td>1</td>\n",
       "      <td>1</td>\n",
       "      <td>...</td>\n",
       "      <td>21</td>\n",
       "      <td>1</td>\n",
       "      <td>0</td>\n",
       "      <td>0</td>\n",
       "      <td>0</td>\n",
       "      <td>0</td>\n",
       "      <td>T</td>\n",
       "      <td>38108</td>\n",
       "      <td>Salaried</td>\n",
       "      <td>220000</td>\n",
       "    </tr>\n",
       "    <tr>\n",
       "      <th>...</th>\n",
       "      <td>...</td>\n",
       "      <td>...</td>\n",
       "      <td>...</td>\n",
       "      <td>...</td>\n",
       "      <td>...</td>\n",
       "      <td>...</td>\n",
       "      <td>...</td>\n",
       "      <td>...</td>\n",
       "      <td>...</td>\n",
       "      <td>...</td>\n",
       "      <td>...</td>\n",
       "      <td>...</td>\n",
       "      <td>...</td>\n",
       "      <td>...</td>\n",
       "      <td>...</td>\n",
       "      <td>...</td>\n",
       "      <td>...</td>\n",
       "      <td>...</td>\n",
       "      <td>...</td>\n",
       "      <td>...</td>\n",
       "      <td>...</td>\n",
       "    </tr>\n",
       "    <tr>\n",
       "      <th>8443</th>\n",
       "      <td>8444</td>\n",
       "      <td>4262 41XX XXXX XXXX</td>\n",
       "      <td>426241</td>\n",
       "      <td>Visa</td>\n",
       "      <td>chartered</td>\n",
       "      <td>2010-01-10</td>\n",
       "      <td>A</td>\n",
       "      <td>1</td>\n",
       "      <td>1</td>\n",
       "      <td>1</td>\n",
       "      <td>...</td>\n",
       "      <td>47</td>\n",
       "      <td>0</td>\n",
       "      <td>0</td>\n",
       "      <td>0</td>\n",
       "      <td>0</td>\n",
       "      <td>0</td>\n",
       "      <td>T</td>\n",
       "      <td>108713</td>\n",
       "      <td>0</td>\n",
       "      <td>970000</td>\n",
       "    </tr>\n",
       "    <tr>\n",
       "      <th>8444</th>\n",
       "      <td>8445</td>\n",
       "      <td>37691 6XXXX XXXXX</td>\n",
       "      <td>376916</td>\n",
       "      <td>Amex</td>\n",
       "      <td>centurion</td>\n",
       "      <td>2006-07-19</td>\n",
       "      <td>A</td>\n",
       "      <td>0</td>\n",
       "      <td>1</td>\n",
       "      <td>1</td>\n",
       "      <td>...</td>\n",
       "      <td>52</td>\n",
       "      <td>0</td>\n",
       "      <td>0</td>\n",
       "      <td>0</td>\n",
       "      <td>0</td>\n",
       "      <td>0</td>\n",
       "      <td>T</td>\n",
       "      <td>42369</td>\n",
       "      <td>Salaried</td>\n",
       "      <td>200000</td>\n",
       "    </tr>\n",
       "    <tr>\n",
       "      <th>8445</th>\n",
       "      <td>8446</td>\n",
       "      <td>4375 51XX XXXX XXXX</td>\n",
       "      <td>437551</td>\n",
       "      <td>Visa</td>\n",
       "      <td>rewards</td>\n",
       "      <td>2006-02-15</td>\n",
       "      <td>D</td>\n",
       "      <td>0</td>\n",
       "      <td>1</td>\n",
       "      <td>1</td>\n",
       "      <td>...</td>\n",
       "      <td>36</td>\n",
       "      <td>0</td>\n",
       "      <td>0</td>\n",
       "      <td>0</td>\n",
       "      <td>0</td>\n",
       "      <td>0</td>\n",
       "      <td>T</td>\n",
       "      <td>8459</td>\n",
       "      <td>Retired</td>\n",
       "      <td>90000</td>\n",
       "    </tr>\n",
       "    <tr>\n",
       "      <th>8446</th>\n",
       "      <td>8447</td>\n",
       "      <td>4477 47XX XXXX XXXX</td>\n",
       "      <td>447747</td>\n",
       "      <td>Visa</td>\n",
       "      <td>indianoil</td>\n",
       "      <td>2003-11-06</td>\n",
       "      <td>C</td>\n",
       "      <td>0</td>\n",
       "      <td>0</td>\n",
       "      <td>0</td>\n",
       "      <td>...</td>\n",
       "      <td>54</td>\n",
       "      <td>1</td>\n",
       "      <td>0</td>\n",
       "      <td>0</td>\n",
       "      <td>0</td>\n",
       "      <td>0</td>\n",
       "      <td>T</td>\n",
       "      <td>57100</td>\n",
       "      <td>Salaried</td>\n",
       "      <td>210000</td>\n",
       "    </tr>\n",
       "    <tr>\n",
       "      <th>8447</th>\n",
       "      <td>8448</td>\n",
       "      <td>4262 41XX XXXX XXXX</td>\n",
       "      <td>426241</td>\n",
       "      <td>Visa</td>\n",
       "      <td>rewards</td>\n",
       "      <td>2013-01-13</td>\n",
       "      <td>D</td>\n",
       "      <td>0</td>\n",
       "      <td>1</td>\n",
       "      <td>1</td>\n",
       "      <td>...</td>\n",
       "      <td>37</td>\n",
       "      <td>0</td>\n",
       "      <td>0</td>\n",
       "      <td>0</td>\n",
       "      <td>0</td>\n",
       "      <td>0</td>\n",
       "      <td>T</td>\n",
       "      <td>45244</td>\n",
       "      <td>Retired</td>\n",
       "      <td>130000</td>\n",
       "    </tr>\n",
       "  </tbody>\n",
       "</table>\n",
       "<p>8448 rows × 28 columns</p>\n",
       "</div>"
      ],
      "text/plain": [
       "      userid              card_no  card_bin_no Issuer   card_type  \\\n",
       "0          1  4384 39XX XXXX XXXX       438439   Visa        edge   \n",
       "1          2  4377 48XX XXXX XXXX       437748   Visa  prosperity   \n",
       "2          3  4377 48XX XXXX XXXX       437748   Visa     rewards   \n",
       "3          4  4258 06XX XXXX XXXX       425806   Visa   indianoil   \n",
       "4          5  4377 48XX XXXX XXXX       437748   Visa        edge   \n",
       "...      ...                  ...          ...    ...         ...   \n",
       "8443    8444  4262 41XX XXXX XXXX       426241   Visa   chartered   \n",
       "8444    8445    37691 6XXXX XXXXX       376916   Amex   centurion   \n",
       "8445    8446  4375 51XX XXXX XXXX       437551   Visa     rewards   \n",
       "8446    8447  4477 47XX XXXX XXXX       447747   Visa   indianoil   \n",
       "8447    8448  4262 41XX XXXX XXXX       426241   Visa     rewards   \n",
       "\n",
       "     card_source_date high_networth  active_30  active_60  active_90  ...  \\\n",
       "0          2019-09-29             B          0          1          1  ...   \n",
       "1          2002-10-30             A          1          1          1  ...   \n",
       "2          2013-10-05             C          0          0          0  ...   \n",
       "3          1999-06-01             E          0          1          1  ...   \n",
       "4          2006-06-13             B          1          1          1  ...   \n",
       "...               ...           ...        ...        ...        ...  ...   \n",
       "8443       2010-01-10             A          1          1          1  ...   \n",
       "8444       2006-07-19             A          0          1          1  ...   \n",
       "8445       2006-02-15             D          0          1          1  ...   \n",
       "8446       2003-11-06             C          0          0          0  ...   \n",
       "8447       2013-01-13             D          0          1          1  ...   \n",
       "\n",
       "      bank_vintage  T+1_month_activity  T+2_month_activity T+3_month_activity  \\\n",
       "0               27                   0                   0                  0   \n",
       "1               52                   0                   0                  0   \n",
       "2               23                   1                   0                  0   \n",
       "3               49                   0                   0                  1   \n",
       "4               21                   1                   0                  0   \n",
       "...            ...                 ...                 ...                ...   \n",
       "8443            47                   0                   0                  0   \n",
       "8444            52                   0                   0                  0   \n",
       "8445            36                   0                   0                  0   \n",
       "8446            54                   1                   0                  0   \n",
       "8447            37                   0                   0                  0   \n",
       "\n",
       "      T+6_month_activity  T+12_month_activity  Transactor_revolver  \\\n",
       "0                      0                    0                    T   \n",
       "1                      0                    0                    R   \n",
       "2                      0                    0                    R   \n",
       "3                      0                    0                    T   \n",
       "4                      0                    0                    T   \n",
       "...                  ...                  ...                  ...   \n",
       "8443                   0                    0                    T   \n",
       "8444                   0                    0                    T   \n",
       "8445                   0                    0                    T   \n",
       "8446                   0                    0                    T   \n",
       "8447                   0                    0                    T   \n",
       "\n",
       "     avg_spends_l3m  Occupation_at_source  cc_limit  \n",
       "0             27729         Self Employed    290000  \n",
       "1            280854                     0    950000  \n",
       "2             70587               Student    210000  \n",
       "3              9156         Self Employed     80000  \n",
       "4             38108              Salaried    220000  \n",
       "...             ...                   ...       ...  \n",
       "8443         108713                     0    970000  \n",
       "8444          42369              Salaried    200000  \n",
       "8445           8459               Retired     90000  \n",
       "8446          57100              Salaried    210000  \n",
       "8447          45244               Retired    130000  \n",
       "\n",
       "[8448 rows x 28 columns]"
      ]
     },
     "execution_count": 3,
     "metadata": {},
     "output_type": "execute_result"
    }
   ],
   "source": [
    "df1"
   ]
  },
  {
   "cell_type": "code",
   "execution_count": 4,
   "id": "5e68a52f",
   "metadata": {},
   "outputs": [
    {
     "name": "stdout",
     "output_type": "stream",
     "text": [
      "<class 'pandas.core.frame.DataFrame'>\n",
      "RangeIndex: 8448 entries, 0 to 8447\n",
      "Data columns (total 28 columns):\n",
      " #   Column                   Non-Null Count  Dtype         \n",
      "---  ------                   --------------  -----         \n",
      " 0   userid                   8448 non-null   int64         \n",
      " 1   card_no                  8448 non-null   object        \n",
      " 2   card_bin_no              8448 non-null   int64         \n",
      " 3   Issuer                   8448 non-null   object        \n",
      " 4   card_type                8448 non-null   object        \n",
      " 5   card_source_date         8448 non-null   datetime64[ns]\n",
      " 6   high_networth            8448 non-null   object        \n",
      " 7   active_30                8448 non-null   int64         \n",
      " 8   active_60                8448 non-null   int64         \n",
      " 9   active_90                8448 non-null   int64         \n",
      " 10  cc_active30              8448 non-null   int64         \n",
      " 11  cc_active60              8448 non-null   int64         \n",
      " 12  cc_active90              8448 non-null   int64         \n",
      " 13  hotlist_flag             8448 non-null   object        \n",
      " 14  widget_products          8448 non-null   int64         \n",
      " 15  engagement_products      8448 non-null   int64         \n",
      " 16  annual_income_at_source  8448 non-null   int64         \n",
      " 17  other_bank_cc_holding    8448 non-null   object        \n",
      " 18  bank_vintage             8448 non-null   int64         \n",
      " 19  T+1_month_activity       8448 non-null   int64         \n",
      " 20  T+2_month_activity       8448 non-null   int64         \n",
      " 21  T+3_month_activity       8448 non-null   int64         \n",
      " 22  T+6_month_activity       8448 non-null   int64         \n",
      " 23  T+12_month_activity      8448 non-null   int64         \n",
      " 24  Transactor_revolver      8410 non-null   object        \n",
      " 25  avg_spends_l3m           8448 non-null   int64         \n",
      " 26  Occupation_at_source     8448 non-null   object        \n",
      " 27  cc_limit                 8448 non-null   int64         \n",
      "dtypes: datetime64[ns](1), int64(19), object(8)\n",
      "memory usage: 1.8+ MB\n"
     ]
    }
   ],
   "source": [
    "df1.info()"
   ]
  },
  {
   "cell_type": "code",
   "execution_count": 7,
   "id": "c7f24a70",
   "metadata": {},
   "outputs": [
    {
     "data": {
      "text/plain": [
       "Index(['userid', 'card_no', 'card_bin_no', 'Issuer', 'card_type',\n",
       "       'card_source_date', 'high_networth', 'active_30', 'active_60',\n",
       "       'active_90', 'cc_active30', 'cc_active60', 'cc_active90',\n",
       "       'hotlist_flag', 'widget_products', 'engagement_products',\n",
       "       'annual_income_at_source', 'other_bank_cc_holding', 'bank_vintage',\n",
       "       'T+1_month_activity', 'T+2_month_activity', 'T+3_month_activity',\n",
       "       'T+6_month_activity', 'T+12_month_activity', 'Transactor_revolver',\n",
       "       'avg_spends_l3m', 'Occupation_at_source', 'cc_limit'],\n",
       "      dtype='object')"
      ]
     },
     "execution_count": 7,
     "metadata": {},
     "output_type": "execute_result"
    }
   ],
   "source": [
    "df1.columns"
   ]
  },
  {
   "cell_type": "markdown",
   "id": "5eee90db",
   "metadata": {},
   "source": [
    "## Here is my pick of top 5 important variables, along with the business justifications."
   ]
  },
  {
   "cell_type": "code",
   "execution_count": 11,
   "id": "0d06dfce",
   "metadata": {},
   "outputs": [
    {
     "data": {
      "text/html": [
       "<div>\n",
       "<style scoped>\n",
       "    .dataframe tbody tr th:only-of-type {\n",
       "        vertical-align: middle;\n",
       "    }\n",
       "\n",
       "    .dataframe tbody tr th {\n",
       "        vertical-align: top;\n",
       "    }\n",
       "\n",
       "    .dataframe thead th {\n",
       "        text-align: right;\n",
       "    }\n",
       "</style>\n",
       "<table border=\"1\" class=\"dataframe\">\n",
       "  <thead>\n",
       "    <tr style=\"text-align: right;\">\n",
       "      <th></th>\n",
       "      <th>Issuer</th>\n",
       "      <th>T+1_month_activity</th>\n",
       "      <th>high_networth</th>\n",
       "      <th>Transactor_revolver</th>\n",
       "      <th>avg_spends_l3m</th>\n",
       "    </tr>\n",
       "  </thead>\n",
       "  <tbody>\n",
       "    <tr>\n",
       "      <th>0</th>\n",
       "      <td>Visa</td>\n",
       "      <td>0</td>\n",
       "      <td>B</td>\n",
       "      <td>T</td>\n",
       "      <td>27729</td>\n",
       "    </tr>\n",
       "    <tr>\n",
       "      <th>1</th>\n",
       "      <td>Visa</td>\n",
       "      <td>0</td>\n",
       "      <td>A</td>\n",
       "      <td>R</td>\n",
       "      <td>280854</td>\n",
       "    </tr>\n",
       "    <tr>\n",
       "      <th>2</th>\n",
       "      <td>Visa</td>\n",
       "      <td>1</td>\n",
       "      <td>C</td>\n",
       "      <td>R</td>\n",
       "      <td>70587</td>\n",
       "    </tr>\n",
       "    <tr>\n",
       "      <th>3</th>\n",
       "      <td>Visa</td>\n",
       "      <td>0</td>\n",
       "      <td>E</td>\n",
       "      <td>T</td>\n",
       "      <td>9156</td>\n",
       "    </tr>\n",
       "    <tr>\n",
       "      <th>4</th>\n",
       "      <td>Visa</td>\n",
       "      <td>1</td>\n",
       "      <td>B</td>\n",
       "      <td>T</td>\n",
       "      <td>38108</td>\n",
       "    </tr>\n",
       "    <tr>\n",
       "      <th>...</th>\n",
       "      <td>...</td>\n",
       "      <td>...</td>\n",
       "      <td>...</td>\n",
       "      <td>...</td>\n",
       "      <td>...</td>\n",
       "    </tr>\n",
       "    <tr>\n",
       "      <th>8443</th>\n",
       "      <td>Visa</td>\n",
       "      <td>0</td>\n",
       "      <td>A</td>\n",
       "      <td>T</td>\n",
       "      <td>108713</td>\n",
       "    </tr>\n",
       "    <tr>\n",
       "      <th>8444</th>\n",
       "      <td>Amex</td>\n",
       "      <td>0</td>\n",
       "      <td>A</td>\n",
       "      <td>T</td>\n",
       "      <td>42369</td>\n",
       "    </tr>\n",
       "    <tr>\n",
       "      <th>8445</th>\n",
       "      <td>Visa</td>\n",
       "      <td>0</td>\n",
       "      <td>D</td>\n",
       "      <td>T</td>\n",
       "      <td>8459</td>\n",
       "    </tr>\n",
       "    <tr>\n",
       "      <th>8446</th>\n",
       "      <td>Visa</td>\n",
       "      <td>1</td>\n",
       "      <td>C</td>\n",
       "      <td>T</td>\n",
       "      <td>57100</td>\n",
       "    </tr>\n",
       "    <tr>\n",
       "      <th>8447</th>\n",
       "      <td>Visa</td>\n",
       "      <td>0</td>\n",
       "      <td>D</td>\n",
       "      <td>T</td>\n",
       "      <td>45244</td>\n",
       "    </tr>\n",
       "  </tbody>\n",
       "</table>\n",
       "<p>8448 rows × 5 columns</p>\n",
       "</div>"
      ],
      "text/plain": [
       "     Issuer  T+1_month_activity high_networth Transactor_revolver  \\\n",
       "0      Visa                   0             B                   T   \n",
       "1      Visa                   0             A                   R   \n",
       "2      Visa                   1             C                   R   \n",
       "3      Visa                   0             E                   T   \n",
       "4      Visa                   1             B                   T   \n",
       "...     ...                 ...           ...                 ...   \n",
       "8443   Visa                   0             A                   T   \n",
       "8444   Amex                   0             A                   T   \n",
       "8445   Visa                   0             D                   T   \n",
       "8446   Visa                   1             C                   T   \n",
       "8447   Visa                   0             D                   T   \n",
       "\n",
       "      avg_spends_l3m  \n",
       "0              27729  \n",
       "1             280854  \n",
       "2              70587  \n",
       "3               9156  \n",
       "4              38108  \n",
       "...              ...  \n",
       "8443          108713  \n",
       "8444           42369  \n",
       "8445            8459  \n",
       "8446           57100  \n",
       "8447           45244  \n",
       "\n",
       "[8448 rows x 5 columns]"
      ]
     },
     "execution_count": 11,
     "metadata": {},
     "output_type": "execute_result"
    }
   ],
   "source": [
    "df1[['Issuer','T+1_month_activity','high_networth','Transactor_revolver','avg_spends_l3m']]"
   ]
  },
  {
   "cell_type": "markdown",
   "id": "4ae9306e",
   "metadata": {},
   "source": [
    "## 1.Card Issuer: The type of card plays a vital role in business context.\n",
    "\n",
    "### Business justification: \n",
    "\n",
    " Analysing and Understanding the various card distributed among the customers help us to provide the suitable   plans,offerings,and the marketing ideas for various card types, additional card benefits and the rewards will be additional drive for customers to be the long-lasting one.\n",
    "\n"
   ]
  },
  {
   "cell_type": "code",
   "execution_count": 12,
   "id": "936e0975",
   "metadata": {},
   "outputs": [
    {
     "data": {
      "text/plain": [
       "Issuer\n",
       "Visa          7279\n",
       "Mastercard     728\n",
       "Amex           441\n",
       "Name: count, dtype: int64"
      ]
     },
     "execution_count": 12,
     "metadata": {},
     "output_type": "execute_result"
    }
   ],
   "source": [
    "df1['Issuer'].value_counts()"
   ]
  },
  {
   "cell_type": "code",
   "execution_count": 54,
   "id": "471bed7e",
   "metadata": {},
   "outputs": [
    {
     "data": {
      "image/png": "[encoded data removed]",
      "text/plain": [
       "<Figure size 800x400 with 1 Axes>"
      ]
     },
     "metadata": {},
     "output_type": "display_data"
    }
   ],
   "source": [
    "plt.figure(figsize=(8, 4))\n",
    "sns.countplot(x='Issuer', data=df1, palette='viridis', order=df1['Issuer'].value_counts().index)\n",
    "plt.title('Count of each Issuer')\n",
    "plt.xlabel('Issuer')\n",
    "plt.ylabel('Count')\n",
    "plt.xticks(rotation=45, ha='right') \n",
    "plt.show()"
   ]
  },
  {
   "cell_type": "markdown",
   "id": "9fafc3a6",
   "metadata": {},
   "source": [
    "### There are 7279 visa cards and 728 Master cards and 441 Amex card issued."
   ]
  },
  {
   "cell_type": "markdown",
   "id": "277bc76b",
   "metadata": {},
   "source": [
    "## 2.T+1_month_activity :\n",
    "\n",
    "### Business justification:\n",
    "\n",
    "The activity at the initial stages of the issue of card is crucial,the reason i am picking this one is at the initial stages the rapport should be flawless with the customers in term of onboarding ,user ineterface,plans and involvement of user right after the card purchase will gives us the information to proceed further.Customer service and the customer loyalty are important factors during the intial stages.\n",
    "\n"
   ]
  },
  {
   "cell_type": "code",
   "execution_count": 55,
   "id": "f33d082b",
   "metadata": {},
   "outputs": [
    {
     "data": {
      "image/png": "[encoded data removed]",
      "text/plain": [
       "<Figure size 800x400 with 1 Axes>"
      ]
     },
     "metadata": {},
     "output_type": "display_data"
    }
   ],
   "source": [
    "plt.figure(figsize=(8, 4))\n",
    "plt.hist(df1['T+1_month_activity'], bins=20, color='skyblue', edgecolor='black')\n",
    "plt.title('Distribution of T+1 Month Activity')\n",
    "plt.xlabel('T+1 Month Activity')\n",
    "plt.ylabel('Count')\n",
    "plt.show()"
   ]
  },
  {
   "cell_type": "markdown",
   "id": "d426df82",
   "metadata": {},
   "source": [
    "## 3.High_networth :\n",
    "\n",
    "### Business justification:\n",
    "\n",
    "The networth will defines the customer about what are their potential and what are plans that can work well for them and the risk analysis in the plans,the people will higher net worth can be driven to business ideas and the growth of their welfare side by side with influence a lot in this category.\n"
   ]
  },
  {
   "cell_type": "code",
   "execution_count": 29,
   "id": "13b8c312",
   "metadata": {},
   "outputs": [
    {
     "data": {
      "text/plain": [
       "high_networth\n",
       "A    1740\n",
       "D    1696\n",
       "E    1693\n",
       "B    1660\n",
       "C    1659\n",
       "Name: count, dtype: int64"
      ]
     },
     "execution_count": 29,
     "metadata": {},
     "output_type": "execute_result"
    }
   ],
   "source": [
    "df1['high_networth'].value_counts()"
   ]
  },
  {
   "cell_type": "code",
   "execution_count": 56,
   "id": "40fb0c4f",
   "metadata": {},
   "outputs": [
    {
     "data": {
      "image/png": "[encoded data removed]",
      "text/plain": [
       "<Figure size 800x400 with 1 Axes>"
      ]
     },
     "metadata": {},
     "output_type": "display_data"
    }
   ],
   "source": [
    "plt.figure(figsize=(8, 4))\n",
    "sns.countplot(x='high_networth', data=df1, palette='viridis', order=df1['high_networth'].value_counts().index)\n",
    "plt.title('Networth')\n",
    "plt.xlabel('high_networth')\n",
    "plt.ylabel('Count')\n",
    "plt.xticks(rotation=45, ha='right')\n",
    "plt.show()"
   ]
  },
  {
   "cell_type": "markdown",
   "id": "34cfe2d1",
   "metadata": {},
   "source": [
    "## 4.Transactor_revolver \n",
    "\n",
    "### Business justification:\n",
    "\n",
    "The transactor and the revolver is important in risk analysis and management by identifying the type we can decide the suitable palns they may work and the risks in the revolver category can also be minimized.\n"
   ]
  },
  {
   "cell_type": "code",
   "execution_count": 30,
   "id": "80588a7b",
   "metadata": {},
   "outputs": [
    {
     "data": {
      "text/plain": [
       "Transactor_revolver\n",
       "T    7115\n",
       "R    1295\n",
       "Name: count, dtype: int64"
      ]
     },
     "execution_count": 30,
     "metadata": {},
     "output_type": "execute_result"
    }
   ],
   "source": [
    "df1['Transactor_revolver'].value_counts()"
   ]
  },
  {
   "cell_type": "code",
   "execution_count": 57,
   "id": "81d93e21",
   "metadata": {},
   "outputs": [
    {
     "data": {
      "image/png": "[encoded data removed]",
      "text/plain": [
       "<Figure size 800x400 with 1 Axes>"
      ]
     },
     "metadata": {},
     "output_type": "display_data"
    }
   ],
   "source": [
    "plt.figure(figsize=(8, 4))\n",
    "sns.countplot(x='Transactor_revolver', data=df1, palette='viridis', order=df1['Transactor_revolver'].value_counts().index)\n",
    "plt.title('Transcator or Revolver')\n",
    "plt.xlabel('T & R')\n",
    "plt.ylabel('Count')\n",
    "plt.xticks(rotation=45, ha='right')  # Rotate x-axis labels for better readability\n",
    "plt.show()"
   ]
  },
  {
   "cell_type": "markdown",
   "id": "d3e75a55",
   "metadata": {},
   "source": [
    "#### There are 7115 Transactors of minimum risks and 1295 Revolvers risk analysis should done before approving new plans."
   ]
  },
  {
   "cell_type": "markdown",
   "id": "5e40f23f",
   "metadata": {},
   "source": [
    "## 5. Avg_spends_l3m   :\n",
    "\n",
    "###  Business justification:\n",
    "\n",
    "The average amount spend in the last three months will gives us a brief overview of the potential of the customer , risk involved in the process,ensuring they having the better experience and what will be plans that suit their needs everything can be derived from it."
   ]
  },
  {
   "cell_type": "code",
   "execution_count": 33,
   "id": "8e99f428",
   "metadata": {},
   "outputs": [
    {
     "data": {
      "text/plain": [
       "count      8448.000000\n",
       "mean      49527.365530\n",
       "std       46244.954836\n",
       "min           0.000000\n",
       "25%       17110.000000\n",
       "50%       37943.000000\n",
       "75%       66095.750000\n",
       "max      289292.000000\n",
       "Name: avg_spends_l3m, dtype: float64"
      ]
     },
     "execution_count": 33,
     "metadata": {},
     "output_type": "execute_result"
    }
   ],
   "source": [
    "df1['avg_spends_l3m'].describe()"
   ]
  },
  {
   "cell_type": "code",
   "execution_count": 58,
   "id": "e6f836ea",
   "metadata": {},
   "outputs": [
    {
     "data": {
      "image/png": "[encoded data removed]",
      "text/plain": [
       "<Figure size 800x400 with 1 Axes>"
      ]
     },
     "metadata": {},
     "output_type": "display_data"
    }
   ],
   "source": [
    "plt.figure(figsize=(8, 4))\n",
    "plt.hist(df1['avg_spends_l3m'], bins=20, color='red', edgecolor='black')\n",
    "plt.title('Average spent in last 3 months')\n",
    "plt.xlabel('Amount spent')\n",
    "plt.ylabel('Count')\n",
    "plt.show()"
   ]
  },
  {
   "cell_type": "markdown",
   "id": "14fc415a",
   "metadata": {},
   "source": [
    "#### The average amount spend by the customers in the last three months is 49527, so that we can suggest or introduce new plans according to the capabalities.The maximum amount spent in last three months is  289292."
   ]
  },
  {
   "cell_type": "markdown",
   "id": "cb7266a3",
   "metadata": {},
   "source": [
    "### These are the business justifications and the top 5 important variables in my opinion"
   ]
  },
  {
   "cell_type": "code",
   "execution_count": null,
   "id": "72dbfbed",
   "metadata": {},
   "outputs": [],
   "source": []
  },
  {
   "cell_type": "code",
   "execution_count": null,
   "id": "ea15beb0",
   "metadata": {},
   "outputs": [],
   "source": []
  }
 ],
 "metadata": {
  "kernelspec": {
   "display_name": "Python 3 (ipykernel)",
   "language": "python",
   "name": "python3"
  },
  "language_info": {
   "codemirror_mode": {
    "name": "ipython",
    "version": 3
   },
   "file_extension": ".py",
   "mimetype": "text/x-python",
   "name": "python",
   "nbconvert_exporter": "python",
   "pygments_lexer": "ipython3",
   "version": "3.11.5"
  }
 },
 "nbformat": 4,
 "nbformat_minor": 5
}
